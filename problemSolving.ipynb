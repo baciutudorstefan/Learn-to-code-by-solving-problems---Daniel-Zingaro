{
 "cells": [
  {
   "cell_type": "code",
   "execution_count": 31,
   "id": "70f4c4bc-90af-4bb4-8d63-4cdddeb56928",
   "metadata": {},
   "outputs": [
    {
     "name": "stdout",
     "output_type": "stream",
     "text": [
      " a asdwe weffdfsdf fsdfsdf\n"
     ]
    },
    {
     "data": {
      "text/plain": [
       "4"
      ]
     },
     "execution_count": 31,
     "metadata": {},
     "output_type": "execute_result"
    }
   ],
   "source": [
    "word = input()\n",
    "total_wordss = word.count(' ') + 1\n",
    "print(total_wordss)"
   ]
  },
  {
   "cell_type": "code",
   "execution_count": 11,
   "id": "310d8a54-160b-4a10-9fba-225be88d7f00",
   "metadata": {},
   "outputs": [
    {
     "data": {
      "text/plain": [
       "0"
      ]
     },
     "execution_count": 11,
     "metadata": {},
     "output_type": "execute_result"
    }
   ],
   "source": [
    "12 % 6"
   ]
  },
  {
   "cell_type": "code",
   "execution_count": 22,
   "id": "9d8edbb6-3e1e-4cd4-938f-f09524d6cea9",
   "metadata": {},
   "outputs": [
    {
     "data": {
      "text/plain": [
       "2"
      ]
     },
     "execution_count": 22,
     "metadata": {},
     "output_type": "execute_result"
    }
   ],
   "source": [
    "12 % 5"
   ]
  },
  {
   "cell_type": "code",
   "execution_count": 23,
   "id": "efa0fd64-a765-43a1-9d52-70d9378a7250",
   "metadata": {},
   "outputs": [
    {
     "data": {
      "text/plain": [
       "41"
      ]
     },
     "execution_count": 23,
     "metadata": {},
     "output_type": "execute_result"
    }
   ],
   "source": [
    "(1237912389123).bit_length()"
   ]
  },
  {
   "cell_type": "code",
   "execution_count": 24,
   "id": "40962bd3-9a83-4c1e-8618-c6ed46332160",
   "metadata": {},
   "outputs": [
    {
     "data": {
      "text/plain": [
       "3"
      ]
     },
     "execution_count": 24,
     "metadata": {},
     "output_type": "execute_result"
    }
   ],
   "source": [
    "(5).bit_length()"
   ]
  },
  {
   "cell_type": "code",
   "execution_count": 47,
   "id": "f6191745-3802-40f8-82ee-e59343b34594",
   "metadata": {},
   "outputs": [
    {
     "name": "stdout",
     "output_type": "stream",
     "text": [
      " 2\n",
      " 5\n"
     ]
    },
    {
     "name": "stdout",
     "output_type": "stream",
     "text": [
      "20.943951023931955\n"
     ]
    }
   ],
   "source": [
    "import math\n",
    "\n",
    "r = int(input())\n",
    "h = int(input())\n",
    "\n",
    "volume = (math.pi * r ** 2 * h) / 3\n",
    "\n",
    "\n",
    "\n",
    "print(volume)"
   ]
  },
  {
   "cell_type": "code",
   "execution_count": null,
   "id": "f978f6e3-2163-4202-8c53-a58cbcbab5c7",
   "metadata": {},
   "outputs": [],
   "source": [
    "apple_three = int(input())\n",
    "apple_two = int(input())\n",
    "apple_one = int(input())\n",
    "banana_three = int(input())\n",
    "banana_two = int(input())\n",
    "banana_one = int(input())\n",
    "\n",
    "apple_total = apple_three * 3 + apple_two * 2 + apple_one \n",
    "banana_total = banana_three * 3 + banana_two * 2 + banana_one \n",
    "\n",
    "if apple_total > banana_total:\n",
    "    print(\"A\")\n",
    "elif banana_total > apple_total:\n",
    "    print(\"B\")\n",
    "else:\n",
    "    print(\"T\")"
   ]
  },
  {
   "cell_type": "code",
   "execution_count": null,
   "id": "dd8ca4c6-2f0c-4014-85a0-31f294113386",
   "metadata": {},
   "outputs": [],
   "source": [
    "first = int(input())\n",
    "second = int(input())\n",
    "third = int(input())\n",
    "fourth = int(input())\n",
    "\n",
    "if ((first == 8 or first == 9) and\n",
    "        (fourth == 8 or fourth == 9) and\n",
    "           (second == third)):\n",
    "    print('ignore')\n",
    "else:\n",
    "    print('answer')\n"
   ]
  }
 ],
 "metadata": {
  "kernelspec": {
   "display_name": "Python 3 (ipykernel)",
   "language": "python",
   "name": "python3"
  },
  "language_info": {
   "codemirror_mode": {
    "name": "ipython",
    "version": 3
   },
   "file_extension": ".py",
   "mimetype": "text/x-python",
   "name": "python",
   "nbconvert_exporter": "python",
   "pygments_lexer": "ipython3",
   "version": "3.8.12"
  }
 },
 "nbformat": 4,
 "nbformat_minor": 5
}
