{
 "cells": [
  {
   "cell_type": "code",
   "execution_count": null,
   "id": "7e37a7fc-894d-47bc-9565-10cb2ca0191d",
   "metadata": {},
   "outputs": [],
   "source": [
    "#\n",
    "#\n",
    "#\n",
    "# Problem #1: Word Count\n",
    "#\n",
    "#\n",
    "#"
   ]
  },
  {
   "cell_type": "code",
   "execution_count": 1,
   "id": "70f4c4bc-90af-4bb4-8d63-4cdddeb56928",
   "metadata": {},
   "outputs": [
    {
     "name": "stdin",
     "output_type": "stream",
     "text": [
      " word count\n"
     ]
    },
    {
     "name": "stdout",
     "output_type": "stream",
     "text": [
      "2\n"
     ]
    }
   ],
   "source": [
    "word = input()\n",
    "total_wordss = word.count(' ') + 1\n",
    "print(total_wordss)"
   ]
  },
  {
   "cell_type": "code",
   "execution_count": 11,
   "id": "310d8a54-160b-4a10-9fba-225be88d7f00",
   "metadata": {},
   "outputs": [
    {
     "data": {
      "text/plain": [
       "0"
      ]
     },
     "execution_count": 11,
     "metadata": {},
     "output_type": "execute_result"
    }
   ],
   "source": [
    "12 % 6"
   ]
  },
  {
   "cell_type": "code",
   "execution_count": 22,
   "id": "9d8edbb6-3e1e-4cd4-938f-f09524d6cea9",
   "metadata": {},
   "outputs": [
    {
     "data": {
      "text/plain": [
       "2"
      ]
     },
     "execution_count": 22,
     "metadata": {},
     "output_type": "execute_result"
    }
   ],
   "source": [
    "12 % 5"
   ]
  },
  {
   "cell_type": "code",
   "execution_count": 23,
   "id": "efa0fd64-a765-43a1-9d52-70d9378a7250",
   "metadata": {},
   "outputs": [
    {
     "data": {
      "text/plain": [
       "41"
      ]
     },
     "execution_count": 23,
     "metadata": {},
     "output_type": "execute_result"
    }
   ],
   "source": [
    "(1237912389123).bit_length()"
   ]
  },
  {
   "cell_type": "code",
   "execution_count": 24,
   "id": "40962bd3-9a83-4c1e-8618-c6ed46332160",
   "metadata": {},
   "outputs": [
    {
     "data": {
      "text/plain": [
       "3"
      ]
     },
     "execution_count": 24,
     "metadata": {},
     "output_type": "execute_result"
    }
   ],
   "source": [
    "(5).bit_length()"
   ]
  },
  {
   "cell_type": "code",
   "execution_count": null,
   "id": "07566f22-72c4-4d14-9e75-54906c72cf68",
   "metadata": {},
   "outputs": [],
   "source": [
    "#\n",
    "#\n",
    "#\n",
    "# Problem #2: Cone Volume\n",
    "#\n",
    "#\n",
    "#"
   ]
  },
  {
   "cell_type": "code",
   "execution_count": null,
   "id": "f6191745-3802-40f8-82ee-e59343b34594",
   "metadata": {},
   "outputs": [],
   "source": [
    "import math\n",
    "\n",
    "r = int(input())\n",
    "h = int(input())\n",
    "\n",
    "volume = (math.pi * r ** 2 * h) / 3\n",
    "\n",
    "\n",
    "\n",
    "print(volume)"
   ]
  },
  {
   "cell_type": "code",
   "execution_count": null,
   "id": "527413e7-f63f-4f20-a2a7-1ca94c897e8e",
   "metadata": {},
   "outputs": [],
   "source": [
    "#\n",
    "#\n",
    "#\n",
    "# Problem #3: Winning Team\n",
    "#\n",
    "#\n",
    "#"
   ]
  },
  {
   "cell_type": "code",
   "execution_count": null,
   "id": "f978f6e3-2163-4202-8c53-a58cbcbab5c7",
   "metadata": {},
   "outputs": [],
   "source": [
    "apple_three = int(input())\n",
    "apple_two = int(input())\n",
    "apple_one = int(input())\n",
    "banana_three = int(input())\n",
    "banana_two = int(input())\n",
    "banana_one = int(input())\n",
    "\n",
    "apple_total = apple_three * 3 + apple_two * 2 + apple_one \n",
    "banana_total = banana_three * 3 + banana_two * 2 + banana_one \n",
    "\n",
    "if apple_total > banana_total:\n",
    "    print(\"A\")\n",
    "elif banana_total > apple_total:\n",
    "    print(\"B\")\n",
    "else:\n",
    "    print(\"T\")"
   ]
  },
  {
   "cell_type": "code",
   "execution_count": null,
   "id": "1fd73678-5005-491b-8d1b-156f8ade99f2",
   "metadata": {},
   "outputs": [],
   "source": [
    "#\n",
    "#\n",
    "#\n",
    "# Problem #4: Telemarketers\n",
    "#\n",
    "#\n",
    "#"
   ]
  },
  {
   "cell_type": "code",
   "execution_count": null,
   "id": "dd8ca4c6-2f0c-4014-85a0-31f294113386",
   "metadata": {},
   "outputs": [],
   "source": [
    "first = int(input())\n",
    "second = int(input())\n",
    "third = int(input())\n",
    "fourth = int(input())\n",
    "\n",
    "if ((first == 8 or first == 9) and\n",
    "        (fourth == 8 or fourth == 9) and\n",
    "           (second == third)):\n",
    "    print('ignore')\n",
    "else:\n",
    "    print('answer')\n"
   ]
  },
  {
   "cell_type": "code",
   "execution_count": null,
   "id": "4db70650-3a43-4277-a1e1-8c0f9cadd728",
   "metadata": {},
   "outputs": [],
   "source": [
    "#\n",
    "#\n",
    "#\n",
    "#Problem #5: Three Cups\n",
    "#\n",
    "#\n",
    "#\n"
   ]
  },
  {
   "cell_type": "code",
   "execution_count": null,
   "id": "70853819-df7f-43b2-bc09-ad97279ef61a",
   "metadata": {},
   "outputs": [],
   "source": [
    "swaps = input(\"Insert the satrt point: \")\n",
    "ball_location = [1,0,0]\n",
    "\n",
    "for swap in swaps:\n",
    "\tif swap == \"A\":\n",
    "\t\tball_location[0],ball_location[1] = ball_location[1],ball_location[0]\n",
    "\telif swap == \"B\":\n",
    "\t\tball_location[1],ball_location[2] = ball_location[2],ball_location[1]\n",
    "\telse:\n",
    "\t\tball_location[0],ball_location[2] = ball_location[2],ball_location[0]\n",
    "\n",
    "if ball_location[0] == 1:\n",
    "\tprint(1)\n",
    "elif ball_location[1] == 1:\n",
    "\tprint(2)\n",
    "else :\n",
    "\tprint(3)\n"
   ]
  },
  {
   "cell_type": "code",
   "execution_count": null,
   "id": "87ab654c-5fc4-4676-a912-f39d60ca1069",
   "metadata": {},
   "outputs": [],
   "source": [
    "#\n",
    "#\n",
    "#\n",
    "#Problem #6: Occupied Spaces\n",
    "#\n",
    "#\n",
    "#"
   ]
  },
  {
   "cell_type": "code",
   "execution_count": null,
   "id": "19cd6899-3ab5-4b76-9b61-224681511bfb",
   "metadata": {},
   "outputs": [],
   "source": [
    "parkingSpaces = int(input(\"Total parking lot spaces: \"))\n",
    "yesterdayPSpaces = input(\"Yesterday parking sapces: \")\n",
    "todayPSpaces = input(\"Today parking spaces: \")\n",
    "\n",
    "occupied = 0\n",
    "\n",
    "for maxSpaces in range(len(yesterdayPSpaces)):\n",
    "    if yesterdayPSpaces[maxSpaces] == 'C' and todayPSpaces[maxSpaces] == 'C':\n",
    "        occupied = occupied + 1\n",
    "print(occupied)\n",
    "                      "
   ]
  },
  {
   "cell_type": "code",
   "execution_count": null,
   "id": "aaaf45f3-2c33-46ec-92b8-ed4683989677",
   "metadata": {},
   "outputs": [],
   "source": [
    "#\n",
    "#\n",
    "#\n",
    "#Problem #7: Data plan\n",
    "#\n",
    "#\n",
    "#"
   ]
  },
  {
   "cell_type": "code",
   "execution_count": null,
   "id": "48989181-96c6-4e2d-86f7-dcea01b180d2",
   "metadata": {},
   "outputs": [],
   "source": [
    "monthly_mb = int(input())\n",
    "\n",
    "months_used = int(input())\n",
    "\n",
    "remains = 0\n",
    "\n",
    "for i in range(months_used):\n",
    "    used = int(input())\n",
    "    remains = remains + monthly_mb - used\n",
    "    \n",
    "print(remains + monthly_mb)\n",
    "\n",
    "\n",
    "\n",
    "\n"
   ]
  },
  {
   "cell_type": "code",
   "execution_count": null,
   "id": "a8b56b66-69c3-4445-b6e4-060cc076f8fa",
   "metadata": {},
   "outputs": [],
   "source": [
    "#\n",
    "#\n",
    "#\n",
    "#Problem #8: Slot Machines\n",
    "#\n",
    "#\n",
    "#"
   ]
  },
  {
   "cell_type": "code",
   "execution_count": null,
   "id": "007aea6d-3ca4-4460-809f-158c790517e9",
   "metadata": {},
   "outputs": [],
   "source": [
    "quarters = int(input())\n",
    "first = int(input())\n",
    "second = int(input())\n",
    "third = int(input())\n",
    "\n",
    "plays = 0\n",
    "machine = 0\n",
    "\n",
    "\n",
    "while quarters >= 1:\n",
    "    quarters = quarters - 1\n",
    "        if machine == 0: \n",
    "            first = first + 1\n",
    "            if first == 35: \n",
    "                first = 0\n",
    "                quarters = quarters + 30\n",
    "        elif machine == 1:\n",
    "            second = second + 1\n",
    "            if second == 100:\n",
    "                second = 0\n",
    "                quarters = quarters + 60\n",
    "        elif machine == 2:\n",
    "            third = third + 1\n",
    "            if third == 10:\n",
    "                third = 0\n",
    "                quarters = quarters + 9\n",
    "                \n",
    "                \n",
    "plays = plays + 1\n",
    "machine = machine + 1\n",
    "if machine == 3:\n",
    "machine = 0\n",
    "print('Martha plays', plays, 'times before going broke.')"
   ]
  },
  {
   "cell_type": "code",
   "execution_count": null,
   "id": "4611b8e3-7ed5-4f19-a44f-688eaa7b5e2f",
   "metadata": {},
   "outputs": [],
   "source": [
    "#\n",
    "#\n",
    "#\n",
    "#Problem #9: Song Playlist\n",
    "#\n",
    "#\n",
    "#"
   ]
  },
  {
   "cell_type": "code",
   "execution_count": null,
   "id": "6943d0a3-432a-42a7-aa37-b884e8fd4834",
   "metadata": {},
   "outputs": [],
   "source": []
  }
 ],
 "metadata": {
  "kernelspec": {
   "display_name": "Python 3 (ipykernel)",
   "language": "python",
   "name": "python3"
  },
  "language_info": {
   "codemirror_mode": {
    "name": "ipython",
    "version": 3
   },
   "file_extension": ".py",
   "mimetype": "text/x-python",
   "name": "python",
   "nbconvert_exporter": "python",
   "pygments_lexer": "ipython3",
   "version": "3.8.12"
  }
 },
 "nbformat": 4,
 "nbformat_minor": 5
}
