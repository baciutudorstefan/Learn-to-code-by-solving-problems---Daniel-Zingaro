{
 "cells": [
  {
   "cell_type": "code",
   "execution_count": 5,
   "id": "f8ff91ac-e557-486b-8020-f1ca67ce03bb",
   "metadata": {},
   "outputs": [
    {
     "name": "stdin",
     "output_type": "stream",
     "text": [
      " 100\n",
      " 2\n",
      " 100\n",
      " 50\n"
     ]
    },
    {
     "name": "stdout",
     "output_type": "stream",
     "text": [
      "Martha plays 1 times before going broke.\n"
     ]
    }
   ],
   "source": [
    "quarters = int(input())\n",
    "first = int(input())\n",
    "second = int(input())\n",
    "third = int(input())\n",
    "\n",
    "plays = 0\n",
    "machine = 0\n",
    "\n",
    "\n",
    "while quarters >= 1:\n",
    "    quarters = quarters - 1\n",
    "    if machine == 0: \n",
    "        first = first + 1\n",
    "        if first == 35: \n",
    "            first = 0\n",
    "            quarters = quarters + 30\n",
    "    elif machine == 1:\n",
    "        second = second + 1\n",
    "        if second == 100:\n",
    "            second = 0\n",
    "            quarters = quarters + 60\n",
    "    elif machine == 2:\n",
    "        third = third + 1\n",
    "        if third == 10:\n",
    "            third = 0\n",
    "            quarters = quarters + 9\n",
    "                \n",
    "                \n",
    "plays = plays + 1\n",
    "machine = machine + 1\n",
    "if machine == 3:\n",
    "    machine = 0\n",
    "    \n",
    "print('Martha plays', plays, 'times before going broke.')\n"
   ]
  },
  {
   "cell_type": "code",
   "execution_count": null,
   "id": "f36a1cbe-76f9-4c58-8d5e-40e5471cc24f",
   "metadata": {},
   "outputs": [],
   "source": [
    "quarters = int(input())\n",
    "first = int(input())\n",
    "second = int(input())\n",
    "third = int(input())\n",
    "\n",
    "plays = 0\n",
    "machine = 0\n",
    "\n",
    "\n",
    "while quarters >= 1: \n",
    "    machine = plays % 3\n",
    "    quarters = quarters - 1\n",
    "    \n",
    "    if machine == 0:\n",
    "        first = first + 1\n",
    "        if first % 35 == 0: \n",
    "            quarters = quarters + 30\n",
    "        \n",
    "    elif machine == 1:\n",
    "        second = second + 1\n",
    "        if second % 100 == 0:\n",
    "            quarters = quarters + 60\n",
    "            \n",
    "    elif machine == 2:\n",
    "        third = third + 1 \n",
    "        if third%10==0:\n",
    "            quarters = quarters + 9\n",
    "            \n",
    "    plays = plays + 1\n",
    "                \n",
    "                \n",
    "                \n",
    "print('Martha plays', plays, 'times before going broke.')"
   ]
  }
 ],
 "metadata": {
  "kernelspec": {
   "display_name": "Python 3 (ipykernel)",
   "language": "python",
   "name": "python3"
  },
  "language_info": {
   "codemirror_mode": {
    "name": "ipython",
    "version": 3
   },
   "file_extension": ".py",
   "mimetype": "text/x-python",
   "name": "python",
   "nbconvert_exporter": "python",
   "pygments_lexer": "ipython3",
   "version": "3.8.12"
  }
 },
 "nbformat": 4,
 "nbformat_minor": 5
}
